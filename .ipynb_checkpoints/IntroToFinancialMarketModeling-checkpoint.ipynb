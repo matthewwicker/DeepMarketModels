{
 "cells": [
  {
   "cell_type": "markdown",
   "metadata": {},
   "source": [
    "# Deep Finacial Market Modeling with LSTM - Part 1\n",
    "### CSCI 4210 - Simulation and Modeling\n",
    "#### Matthew Wicker\n",
    "\n",
    "In this notebook, we will create a univariate LSTM Model for historical stock prices.\n",
    "\n",
    "### Getting started - Download your own data:\n",
    "\n",
    "#### • Go to - https://finance.yahoo.com/\n",
    "#### • Search a stock that you would like to create a model for\n",
    "#### • Click on 'History'\n",
    "#### • Set history to 'max'\n",
    "#### • Click apply and then download\n",
    "##### (If you have cloned the repository from github you can skip this and use one of the included csv files)"
   ]
  },
  {
   "cell_type": "code",
   "execution_count": null,
   "metadata": {
    "collapsed": true
   },
   "outputs": [],
   "source": [
    "import csv\n",
    "import numpy as np\n",
    "from __future__ import print_function\n",
    "import numpy as np # linear algebra\n",
    "import pandas as pd # data processing, CSV file I/O (e.g. pd.read_csv)\n",
    "from keras.layers.core import Dense, Activation, Dropout\n",
    "from keras.layers.recurrent import LSTM\n",
    "from keras.models import Sequential\n",
    "from sklearn.cross_validation import  train_test_split\n",
    "from sklearn.preprocessing import MinMaxScaler\n",
    "from sklearn.metrics import mean_squared_error\n",
    "import math\n",
    "%matplotlib inline\n",
    "%pylab inline\n",
    "pylab.rcParams['figure.figsize'] = (16, 10)\n",
    "import matplotlib\n",
    "import numpy as np\n",
    "import matplotlib.pyplot as plt\n",
    "import os\n",
    "\n",
    "\n",
    "#===========================================================\n",
    "#          We have set these for reproducibility\n",
    "#===========================================================\n",
    "\n",
    "np.random.seed(5)\n",
    "look_back = 7\n",
    "epochs = 50\n",
    "batch_size = 32\n",
    "\n",
    "#===========================================================\n",
    "#      Constants which define the stock you want to use\n",
    "#===========================================================\n",
    "\n",
    "# Here is the path to your finacial data from Yahoo:\n",
    "STOCK_TO_USE = \"AAPL\"\n",
    "DATA_PATH = \"FinData/\" + STOCK_TO_USE + \".csv\"\n",
    "MODEL_JSON_PATH = \"FinModels/\" + STOCK_TO_USE + \".json\"\n",
    "MODEL_WEIGHT_PATH = \"FinModels/\" + STOCK_TO_USE + \".h5\""
   ]
  },
  {
   "cell_type": "markdown",
   "metadata": {},
   "source": [
    "## Reading in Data\n",
    " This section is largely unncessarry in the context of our our problem; however, we have included this basic structure in case someone wants to apply this approach to a different dataset or different types of data."
   ]
  },
  {
   "cell_type": "code",
   "execution_count": 1,
   "metadata": {},
   "outputs": [
    {
     "name": "stderr",
     "output_type": "stream",
     "text": [
      "Using TensorFlow backend.\n"
     ]
    },
    {
     "name": "stdout",
     "output_type": "stream",
     "text": [
      "Populating the interactive namespace from numpy and matplotlib\n"
     ]
    },
    {
     "name": "stderr",
     "output_type": "stream",
     "text": [
      "/usr/local/lib/python2.7/site-packages/sklearn/cross_validation.py:44: DeprecationWarning: This module was deprecated in version 0.18 in favor of the model_selection module into which all the refactored classes and functions are moved. Also note that the interface of the new CV iterators are different from that of this module. This module will be removed in 0.20.\n",
      "  \"This module will be removed in 0.20.\", DeprecationWarning)\n"
     ]
    }
   ],
   "source": [
    "# Here are the basic values of each stock that we have information on\n",
    "class date:\n",
    "    def __init__(self):\n",
    "        self.date = \"NaN\"\n",
    "        self.open = 0.0\n",
    "        self.high = 0.0\n",
    "        self.low = 0.0\n",
    "        self.close = 0.0\n",
    "        self.adj = 0.0\n",
    "        self.volume = 0.0\n",
    "    def reinit(self, date, op, high, low, close, adj, vol):\n",
    "        self.date = date\n",
    "        self.open = float(op)\n",
    "        self.high = float(high)\n",
    "        self.low = float(low)\n",
    "        self.close = float(close)\n",
    "        self.adj = float(adj)\n",
    "        self.volume = float(vol)\n",
    "        \n",
    "data_entries = []\n",
    "\n",
    "with open(DATA_PATH, 'rb') as f:\n",
    "    reader = csv.reader(f)\n",
    "    for i, row in enumerate(reader):\n",
    "        if(i == 0): continue;\n",
    "        temp_date = date()\n",
    "        temp_date.reinit(row[0], row[1], row[2], row[3], row[4], row[5], row[6])\n",
    "        data_entries.append(temp_date)"
   ]
  },
  {
   "cell_type": "markdown",
   "metadata": {},
   "source": [
    "###  Plot some of this data\n",
    "First, we format each value as a numpy array and then we plot it using matplotlib"
   ]
  },
  {
   "cell_type": "code",
   "execution_count": 2,
   "metadata": {},
   "outputs": [
    {
     "data": {
      "image/png": "[encoded data removed]",
      "text/plain": [
       "<matplotlib.figure.Figure at 0x10f665090>"
      ]
     },
     "metadata": {},
     "output_type": "display_data"
    }
   ],
   "source": [
    "\n",
    "open_of_data = np.asarray([i.open for i in data_entries])\n",
    "close_of_data = np.asarray([i.close for i in data_entries])\n",
    "high_of_data = np.asarray([i.high for i in data_entries])\n",
    "low_of_data = np.asarray([i.low for i in data_entries])\n",
    "\n",
    "\n",
    "\n",
    "plt.title(\"Prices for %s Stocks\"%(STOCK_TO_USE))\n",
    "plt.xlabel(\"Day\")\n",
    "plt.ylabel(\"Price\")\n",
    "h, = plt.plot(high_of_data, label='High Price')\n",
    "l, = plt.plot(low_of_data, label='Low Price')\n",
    "o, = plt.plot(open_of_data, label='Open Price')\n",
    "c, = plt.plot(close_of_data, label='Close Price')\n",
    "plt.legend(handles=[h, l, o, c])\n",
    "plt.show()"
   ]
  },
  {
   "cell_type": "markdown",
   "metadata": {},
   "source": [
    "## Conversion to Pandas Dataframe\n",
    "\n",
    "For LSTMs (especially multivariate LSTMs), it is very popular to use the 'pandas' package. If you would like to convert the work we have done above to pandas, then you can use the code below. "
   ]
  },
  {
   "cell_type": "code",
   "execution_count": null,
   "metadata": {},
   "outputs": [],
   "source": [
    "\"\"\"\n",
    "import pandas\n",
    "\n",
    "dates = range(len(open_of_data))\n",
    "stock_label = [\"STCK\" for i in range(len(open_of_data))]\n",
    "\n",
    "reformatted_data = np.asarray([dates, stock_label, open_of_data, close_of_data, low_of_data, high_of_data])\n",
    "reformatted_data = np.transpose(reformatted_data)\n",
    "\n",
    "#dtype = [('Date','string'), ('Label','float32'), ('open','float32'), ('close','float32'), ('low','float32'), ('high','float32')]\n",
    "values = reformatted_data#numpy.zeros(20, dtype=dtype)\n",
    "index = [str(i) for i in range(1, len(values)+1)]\n",
    "\n",
    "apple = pandas.DataFrame(values, index=index)\n",
    "df.columns = ['date', 'symbol', 'open', 'close', 'low', 'high']\n",
    "print (df)\n",
    "\"\"\""
   ]
  },
  {
   "cell_type": "markdown",
   "metadata": {},
   "source": [
    "## Test-Train Datasplit\n",
    "\n",
    "Here we are going to define the price that we would like to predict (i.e., open, close, high, low). We also split that data into testing and training information. "
   ]
  },
  {
   "cell_type": "code",
   "execution_count": 3,
   "metadata": {},
   "outputs": [
    {
     "name": "stdout",
     "output_type": "stream",
     "text": [
      "Split data into training set and test set... Number of training samples/ test samples: 1517 748\n"
     ]
    }
   ],
   "source": [
    "stock_prices = open_of_data\n",
    "stock_prices = stock_prices.reshape(len(stock_prices), 1)\n",
    "\n",
    "\n",
    "# normalize the dataset\n",
    "scaler = MinMaxScaler(feature_range=(0, 1))\n",
    "stock_prices = scaler.fit_transform(stock_prices)\n",
    "\n",
    "train_size = int(len(stock_prices) * 0.67)\n",
    "test_size = len(stock_prices) - train_size\n",
    "train, test = stock_prices[0:train_size,:], stock_prices[train_size:len(apple_stock_prices),:]\n",
    "\n",
    "print('Split data into training set and test set... Number of training samples/ test samples:', len(train), len(test))\n",
    "\n",
    "def create_dataset(dataset, look_back):\n",
    "    dataX, dataY = [], []\n",
    "    for i in range(len(dataset)-look_back-1):\n",
    "        a = dataset[i:(i+look_back), 0]\n",
    "        dataX.append(a)\n",
    "        dataY.append(dataset[i + look_back, 0])\n",
    "    return np.array(dataX), np.array(dataY)\n",
    "\n",
    "# convert stock price data into time series dataset\n",
    "trainX, trainY = create_dataset(train, look_back)\n",
    "testX, testY = create_dataset(test, look_back)\n",
    "\n",
    "# reshape input of the LSTM to be format [samples, time steps, features]\n",
    "trainX = np.reshape(trainX, (trainX.shape[0], trainX.shape[1], 1))\n",
    "testX = np.reshape(testX, (testX.shape[0], testX.shape[1], 1))\n"
   ]
  },
  {
   "cell_type": "markdown",
   "metadata": {},
   "source": [
    "## Now, we define the model \n",
    "Here is the definition of the Keras model. This is a very simple model. By all means, get creative with the structure of the network. "
   ]
  },
  {
   "cell_type": "code",
   "execution_count": null,
   "metadata": {},
   "outputs": [],
   "source": [
    "# create and fit the LSTM network\n",
    "model = Sequential()\n",
    "model.add(LSTM(4, input_shape=(look_back, 1)))\n",
    "model.add(Dense(1))\n",
    "model.compile(loss='mse', optimizer='adam')"
   ]
  },
  {
   "cell_type": "markdown",
   "metadata": {},
   "source": [
    "## Train your model\n",
    "After you are satisfied with the structure of your network (and it successfully compiles), you can train the network\n",
    "on the data that we have prepared."
   ]
  },
  {
   "cell_type": "code",
   "execution_count": 5,
   "metadata": {},
   "outputs": [
    {
     "name": "stderr",
     "output_type": "stream",
     "text": [
      "/usr/local/lib/python2.7/site-packages/keras/models.py:848: UserWarning: The `nb_epoch` argument in `fit` has been renamed `epochs`.\n",
      "  warnings.warn('The `nb_epoch` argument in `fit` '\n"
     ]
    },
    {
     "name": "stdout",
     "output_type": "stream",
     "text": [
      "Epoch 1/50\n",
      "1509/1509 [==============================] - 1s - loss: 1.2512e-04     \n",
      "Epoch 2/50\n",
      "1509/1509 [==============================] - 1s - loss: 1.2074e-04     \n",
      "Epoch 3/50\n",
      "1509/1509 [==============================] - 1s - loss: 1.2281e-04     \n",
      "Epoch 4/50\n",
      "1509/1509 [==============================] - 1s - loss: 1.2303e-04     \n",
      "Epoch 5/50\n",
      "1509/1509 [==============================] - 1s - loss: 1.2110e-04     \n",
      "Epoch 6/50\n",
      "1509/1509 [==============================] - 1s - loss: 1.1774e-04     \n",
      "Epoch 7/50\n",
      "1509/1509 [==============================] - 1s - loss: 1.1750e-04     \n",
      "Epoch 8/50\n",
      "1509/1509 [==============================] - 1s - loss: 1.1554e-04     \n",
      "Epoch 9/50\n",
      "1509/1509 [==============================] - 1s - loss: 1.1524e-04     \n",
      "Epoch 10/50\n",
      "1509/1509 [==============================] - 1s - loss: 1.1643e-04     \n",
      "Epoch 11/50\n",
      "1509/1509 [==============================] - 1s - loss: 1.1498e-04     \n",
      "Epoch 12/50\n",
      "1509/1509 [==============================] - 1s - loss: 1.1264e-04     \n",
      "Epoch 13/50\n",
      "1509/1509 [==============================] - 1s - loss: 1.1205e-04     \n",
      "Epoch 14/50\n",
      "1509/1509 [==============================] - 1s - loss: 1.1159e-04     \n",
      "Epoch 15/50\n",
      "1509/1509 [==============================] - 1s - loss: 1.1055e-04     \n",
      "Epoch 16/50\n",
      "1509/1509 [==============================] - 1s - loss: 1.1561e-04     \n",
      "Epoch 17/50\n",
      "1509/1509 [==============================] - 1s - loss: 1.1049e-04     \n",
      "Epoch 18/50\n",
      "1509/1509 [==============================] - 1s - loss: 1.1180e-04     - ETA: 0s - loss: 1.0957\n",
      "Epoch 19/50\n",
      "1509/1509 [==============================] - 1s - loss: 1.0989e-04     \n",
      "Epoch 20/50\n",
      "1509/1509 [==============================] - 1s - loss: 1.0899e-04     \n",
      "Epoch 21/50\n",
      "1509/1509 [==============================] - 1s - loss: 1.0870e-04     \n",
      "Epoch 22/50\n",
      "1509/1509 [==============================] - 1s - loss: 1.0816e-04     \n",
      "Epoch 23/50\n",
      "1509/1509 [==============================] - 1s - loss: 1.0687e-04     \n",
      "Epoch 24/50\n",
      "1509/1509 [==============================] - 1s - loss: 1.0824e-04     \n",
      "Epoch 25/50\n",
      "1509/1509 [==============================] - 1s - loss: 1.0746e-04     \n",
      "Epoch 26/50\n",
      "1509/1509 [==============================] - 1s - loss: 1.1446e-04     \n",
      "Epoch 27/50\n",
      "1509/1509 [==============================] - 1s - loss: 1.0531e-04     \n",
      "Epoch 28/50\n",
      "1509/1509 [==============================] - 1s - loss: 1.0289e-04     \n",
      "Epoch 29/50\n",
      "1509/1509 [==============================] - 1s - loss: 1.0309e-04     \n",
      "Epoch 30/50\n",
      "1509/1509 [==============================] - 1s - loss: 1.0488e-04     \n",
      "Epoch 31/50\n",
      "1509/1509 [==============================] - 1s - loss: 1.0170e-04     \n",
      "Epoch 32/50\n",
      "1509/1509 [==============================] - 1s - loss: 1.0175e-04     \n",
      "Epoch 33/50\n",
      "1509/1509 [==============================] - 1s - loss: 1.0026e-04     \n",
      "Epoch 34/50\n",
      "1509/1509 [==============================] - 1s - loss: 1.0293e-04     \n",
      "Epoch 35/50\n",
      "1509/1509 [==============================] - 1s - loss: 1.0063e-04     \n",
      "Epoch 36/50\n",
      "1509/1509 [==============================] - 1s - loss: 9.9570e-05     \n",
      "Epoch 37/50\n",
      "1509/1509 [==============================] - 1s - loss: 1.0095e-04     \n",
      "Epoch 38/50\n",
      "1509/1509 [==============================] - 1s - loss: 9.8212e-05     \n",
      "Epoch 39/50\n",
      "1509/1509 [==============================] - 1s - loss: 1.0345e-04     \n",
      "Epoch 40/50\n",
      "1509/1509 [==============================] - 1s - loss: 9.7490e-05     \n",
      "Epoch 41/50\n",
      "1509/1509 [==============================] - 1s - loss: 1.0666e-04     \n",
      "Epoch 42/50\n",
      "1509/1509 [==============================] - 1s - loss: 9.8520e-05     \n",
      "Epoch 43/50\n",
      "1509/1509 [==============================] - 1s - loss: 9.9888e-05     \n",
      "Epoch 44/50\n",
      "1509/1509 [==============================] - 1s - loss: 9.7569e-05     \n",
      "Epoch 45/50\n",
      "1509/1509 [==============================] - 1s - loss: 9.6031e-05     \n",
      "Epoch 46/50\n",
      "1509/1509 [==============================] - 1s - loss: 9.6259e-05     \n",
      "Epoch 47/50\n",
      "1509/1509 [==============================] - 1s - loss: 9.8709e-05     \n",
      "Epoch 48/50\n",
      "1509/1509 [==============================] - 1s - loss: 1.1025e-04     \n",
      "Epoch 49/50\n",
      "1509/1509 [==============================] - 1s - loss: 9.7857e-05     \n",
      "Epoch 50/50\n",
      "1509/1509 [==============================] - 1s - loss: 9.4667e-05     \n"
     ]
    },
    {
     "data": {
      "text/plain": [
       "<keras.callbacks.History at 0x1180dc210>"
      ]
     },
     "execution_count": 5,
     "metadata": {},
     "output_type": "execute_result"
    }
   ],
   "source": [
    "model.fit(trainX, trainY, nb_epoch=epochs, batch_size=batch_size)"
   ]
  },
  {
   "cell_type": "markdown",
   "metadata": {},
   "source": [
    "## Predictions\n",
    "Here we are going to create predictions based on the trained model, and we will evaluate the RMSD of the predictions"
   ]
  },
  {
   "cell_type": "code",
   "execution_count": null,
   "metadata": {},
   "outputs": [],
   "source": [
    "# make predictions\n",
    "trainPredict = model.predict(trainX)\n",
    "testPredict = model.predict(testX)\n",
    "\n",
    "# invert predictions and targets to unscaled\n",
    "trainPredict = scaler.inverse_transform(trainPredict)\n",
    "trainY = scaler.inverse_transform([trainY])\n",
    "testPredict = scaler.inverse_transform(testPredict)\n",
    "testY = scaler.inverse_transform([testY])\n",
    "\n",
    "# calculate root mean squared error\n",
    "trainScore = math.sqrt(mean_squared_error(trainY[0], trainPredict[:,0]))\n",
    "print('Train Score: %.2f RMSE' % (trainScore))\n",
    "testScore = math.sqrt(mean_squared_error(testY[0], testPredict[:,0]))\n",
    "print('Test Score: %.2f RMSE' % (testScore))\n",
    "\n",
    "\n",
    "# shift predictions of training data for plotting\n",
    "trainPredictPlot = np.empty_like(apple_stock_prices)\n",
    "trainPredictPlot[:, :] = np.nan\n",
    "trainPredictPlot[look_back:len(trainPredict)+look_back, :] = trainPredict\n",
    "\n",
    "# shift predictions of test data for plotting\n",
    "testPredictPlot = np.empty_like(apple_stock_prices)\n",
    "testPredictPlot[:, :] = np.nan\n",
    "testPredictPlot[len(trainPredict)+(look_back*2)+1:len(apple_stock_prices)-1, :] = testPredict"
   ]
  },
  {
   "cell_type": "markdown",
   "metadata": {},
   "source": [
    "## Some fun plots.\n",
    "\n",
    "In the first of the below we show both the prediction of the test and train portion. Really, you should be concerned with the accuracy of your 'test' prediction. \n",
    "\n",
    "In the second, we show just the 'test' prediction portion. This should be a good guide for how well your model will do in the real world."
   ]
  },
  {
   "cell_type": "code",
   "execution_count": null,
   "metadata": {},
   "outputs": [],
   "source": [
    "# plot baseline and predictions\n",
    "plt.title(\"Results of our Prediction for Google Stock Prices [Open]\")\n",
    "plt.xlabel(\"Day\")\n",
    "plt.ylabel(\"Price\")\n",
    "h, = plt.plot(high_of_data, label='High Price', alpha=0.3)\n",
    "l, = plt.plot(low_of_data, label='Low Price', alpha=0.3)\n",
    "o, = plt.plot(open_of_data, label='Open Price', alpha=0.3)\n",
    "c, = plt.plot(close_of_data, label='Close Price',alpha=0.3)\n",
    "predict_train, = plt.plot(trainPredictPlot, label='Predicted (but we trained on this)', color='b')\n",
    "predict_test, = plt.plot(testPredictPlot, label='Predicted Data Unseen', color='r')\n",
    "plt.legend(handles=[h, l, o, c, predict_train, predict_test])\n",
    "plt.show()"
   ]
  },
  {
   "cell_type": "code",
   "execution_count": null,
   "metadata": {},
   "outputs": [],
   "source": [
    "# plot baseline and predictions\n",
    "plt.clf()\n",
    "plt.title(\"Results of our Prediction for Google Stock Prices [Open]\")\n",
    "plt.xlabel(\"Day\")\n",
    "plt.ylabel(\"Price\")\n",
    "test_size = 100\n",
    "h, = plt.plot(high_of_data[-test_size:], label='High Price', alpha=0.3)\n",
    "l, = plt.plot(low_of_data[-test_size:], label='Low Price', alpha=0.3)\n",
    "o, = plt.plot(open_of_data[-test_size:], label='Open Price', alpha=0.3)\n",
    "c, = plt.plot(close_of_data[-test_size:], label='Close Price',alpha=0.3)\n",
    "predict_test, = plt.plot(testPredictPlot[-test_size:], label='Predicted Data Unseen', color='r')\n",
    "plt.legend(handles=[h, l, o, c, predict_train, predict_test])\n",
    "plt.show()"
   ]
  },
  {
   "cell_type": "markdown",
   "metadata": {},
   "source": [
    "## Persistance\n",
    "If you decide that this is a good model, we have included the basif functions that will be able to\n",
    "save and load models"
   ]
  },
  {
   "cell_type": "code",
   "execution_count": null,
   "metadata": {
    "collapsed": true
   },
   "outputs": [],
   "source": [
    "#the function to save model\n",
    "def model_save(model_json,model_h5):\n",
    "    json_model = model.to_json()\n",
    "    with open(model_json, \"w\") as f:\n",
    "        f.write(json_model)\n",
    "    model.save_weights(model_h5)  \n",
    "    \n",
    "#model_save(MODEL_JSON_PATH, MODEL_WEIGHT_PATH)"
   ]
  },
  {
   "cell_type": "code",
   "execution_count": 4,
   "metadata": {},
   "outputs": [],
   "source": [
    "# create and load the LSTM Model\n",
    "def reload_model():\n",
    "    model = Sequential()\n",
    "    model.add(LSTM(4, input_shape=(look_back, 1)))\n",
    "    model.add(Dense(1))\n",
    "    model.load_weights(MODEL_WEIGHT_PATH)\n",
    "    model.compile(loss='mse', optimizer='adam')\n",
    "    return model\n",
    "\n",
    "#model = reload_model()"
   ]
  }
 ],
 "metadata": {
  "kernelspec": {
   "display_name": "Python 2",
   "language": "python",
   "name": "python2"
  },
  "language_info": {
   "codemirror_mode": {
    "name": "ipython",
    "version": 2
   },
   "file_extension": ".py",
   "mimetype": "text/x-python",
   "name": "python",
   "nbconvert_exporter": "python",
   "pygments_lexer": "ipython2",
   "version": "2.7.13"
  }
 },
 "nbformat": 4,
 "nbformat_minor": 2
}
