{
 "cells": [
  {
   "cell_type": "markdown",
   "metadata": {
    "_cell_guid": "969d6ca2-efa8-ea00-2e8f-9e07655626d8",
    "_uuid": "5d5b66a11ae2fe77574571632664c7a9d4bd9e0b"
   },
   "source": [
    "based on \n",
    "http://machinelearningmastery.com/time-series-prediction-lstm-recurrent-neural-networks-python-keras/\n",
    "\n",
    "Predict the stock price of the company Apple Inc. ."
   ]
  },
  {
   "cell_type": "code",
   "execution_count": 1,
   "metadata": {
    "_cell_guid": "e7c1344f-59af-8372-0376-940a72566da6",
    "_uuid": "7a3bad04687b71f72442ea564a96fca79c84051c"
   },
   "outputs": [
    {
     "name": "stderr",
     "output_type": "stream",
     "text": [
      "Using TensorFlow backend.\n",
      "/usr/local/lib/python2.7/site-packages/sklearn/cross_validation.py:44: DeprecationWarning: This module was deprecated in version 0.18 in favor of the model_selection module into which all the refactored classes and functions are moved. Also note that the interface of the new CV iterators are different from that of this module. This module will be removed in 0.20.\n",
      "  \"This module will be removed in 0.20.\", DeprecationWarning)\n"
     ]
    }
   ],
   "source": [
    "from __future__ import print_function\n",
    "import numpy as np # linear algebra\n",
    "import pandas as pd # data processing, CSV file I/O (e.g. pd.read_csv)\n",
    "from keras.layers.core import Dense, Activation, Dropout\n",
    "from keras.layers.recurrent import LSTM\n",
    "from keras.models import Sequential\n",
    "from sklearn.cross_validation import  train_test_split\n",
    "from sklearn.preprocessing import MinMaxScaler\n",
    "from sklearn.metrics import mean_squared_error\n",
    "import matplotlib.pyplot as plt\n",
    "import math\n",
    "\n",
    "# to not display the warnings of tensorflow\n",
    "import os\n",
    "os.environ['TF_CPP_MIN_LOG_LEVEL']='2'"
   ]
  },
  {
   "cell_type": "code",
   "execution_count": 2,
   "metadata": {
    "_cell_guid": "afbaa2e6-6f36-7726-bff0-399b365382fb",
    "_uuid": "3b3e739e82506a54c0fa24779c594633ff4aaee6",
    "collapsed": true
   },
   "outputs": [],
   "source": [
    "# parameters to be set (\"optimum\" hyperparameters obtained from grid search):\n",
    "look_back = 7\n",
    "epochs = 100\n",
    "batch_size = 32"
   ]
  },
  {
   "cell_type": "code",
   "execution_count": 3,
   "metadata": {
    "_cell_guid": "a7fe4936-c44b-1788-a16b-35b5b1eb675c",
    "_uuid": "037d3f409444df21a34754af9c5de03b5d88bbde",
    "collapsed": true
   },
   "outputs": [],
   "source": [
    "# fix random seed for reproducibility\n",
    "np.random.seed(7)"
   ]
  },
  {
   "cell_type": "code",
   "execution_count": 4,
   "metadata": {
    "_cell_guid": "2f69042b-d335-b8ff-ec17-980189526e7d",
    "_uuid": "8ddd3f8a7ee5c3a62f41166619c61431f40dc8ef"
   },
   "outputs": [],
   "source": [
    "# read all prices using panda\n",
    "prices_dataset =  pd.read_csv('nyse/prices-split-adjusted.csv', header=0)"
   ]
  },
  {
   "cell_type": "code",
   "execution_count": 5,
   "metadata": {
    "_cell_guid": "6ba3a1a5-df4e-921f-245a-7039ff53ef4c",
    "_uuid": "effe0d6e38d4d2e0f803803effabb2759bb9bec4",
    "collapsed": true
   },
   "outputs": [],
   "source": [
    "# filter out only data of Apple\n",
    "apple = prices_dataset[prices_dataset['symbol']=='AAPL']"
   ]
  },
  {
   "cell_type": "code",
   "execution_count": 6,
   "metadata": {
    "_cell_guid": "f9d24454-e0a4-a6e5-f04f-1b46b810158c",
    "_uuid": "6865fcc5973f2acb65035adce414f6d29857aaca",
    "collapsed": true
   },
   "outputs": [],
   "source": [
    "# save Apple's stock values as type of floating point number\n",
    "apple_stock_prices = apple.close.values.astype('float32')"
   ]
  },
  {
   "cell_type": "code",
   "execution_count": 7,
   "metadata": {
    "_cell_guid": "17f5bc9d-47ad-2206-71cd-e85ecac42175",
    "_uuid": "5c1fe4515c994de0dc1e35d5cd978678a4c69887",
    "collapsed": true
   },
   "outputs": [],
   "source": [
    "# reshape to column vector\n",
    "apple_stock_prices = apple_stock_prices.reshape(len(apple_stock_prices), 1)"
   ]
  },
  {
   "cell_type": "code",
   "execution_count": 8,
   "metadata": {
    "_cell_guid": "a74ff89f-d274-de8c-f11c-bf2ffaf29eed",
    "_uuid": "c34a5086cb91c26c8a8929b6f430564b36dac624",
    "collapsed": true
   },
   "outputs": [],
   "source": [
    "# normalize the dataset\n",
    "scaler = MinMaxScaler(feature_range=(0, 1))\n",
    "apple_stock_prices = scaler.fit_transform(apple_stock_prices)"
   ]
  },
  {
   "cell_type": "code",
   "execution_count": 9,
   "metadata": {
    "_cell_guid": "6e379f90-c703-6712-12ed-9aa0942a5408",
    "_uuid": "8bb98dda3b1db88e1e582c4dc485f7c65c8f7e17"
   },
   "outputs": [
    {
     "name": "stdout",
     "output_type": "stream",
     "text": [
      "Split data into training set and test set... Number of training samples/ test samples: 1180 582\n"
     ]
    }
   ],
   "source": [
    "# split data into training set and test set\n",
    "train_size = int(len(apple_stock_prices) * 0.67)\n",
    "test_size = len(apple_stock_prices) - train_size\n",
    "train, test = apple_stock_prices[0:train_size,:], apple_stock_prices[train_size:len(apple_stock_prices),:]\n",
    "\n",
    "print('Split data into training set and test set... Number of training samples/ test samples:', len(train), len(test))"
   ]
  },
  {
   "cell_type": "code",
   "execution_count": 10,
   "metadata": {
    "_cell_guid": "e668a235-00fe-4fe3-925b-99051ae376f9",
    "_uuid": "295dc5e77fa700874f8e424ca962da9897466ba6",
    "collapsed": true
   },
   "outputs": [],
   "source": [
    "# convert an array of values into a time series dataset \n",
    "# in form \n",
    "#                     X                     Y\n",
    "# t-look_back+1, t-look_back+2, ..., t     t+1\n",
    "\n",
    "def create_dataset(dataset, look_back):\n",
    "    dataX, dataY = [], []\n",
    "    for i in range(len(dataset)-look_back-1):\n",
    "        a = dataset[i:(i+look_back), 0]\n",
    "        dataX.append(a)\n",
    "        dataY.append(dataset[i + look_back, 0])\n",
    "    return np.array(dataX), np.array(dataY)\n",
    "\n",
    "# convert Apple's stock price data into time series dataset\n",
    "trainX, trainY = create_dataset(train, look_back)\n",
    "testX, testY = create_dataset(test, look_back)"
   ]
  },
  {
   "cell_type": "code",
   "execution_count": 11,
   "metadata": {
    "_cell_guid": "cd259809-fe40-f40b-51e4-1b0b6e648e53",
    "_uuid": "1e57213184bc0ae2942ddceb86b2fd7aa1f63cd5",
    "collapsed": true
   },
   "outputs": [],
   "source": [
    "# reshape input of the LSTM to be format [samples, time steps, features]\n",
    "trainX = np.reshape(trainX, (trainX.shape[0], trainX.shape[1], 1))\n",
    "testX = np.reshape(testX, (testX.shape[0], testX.shape[1], 1))"
   ]
  },
  {
   "cell_type": "code",
   "execution_count": 12,
   "metadata": {
    "_cell_guid": "93499bdc-e811-3a61-c21d-24f906ba5da0",
    "_uuid": "6060e9e94d680e7a292b1d6498abe1f98c87984f"
   },
   "outputs": [
    {
     "name": "stderr",
     "output_type": "stream",
     "text": [
      "/usr/local/lib/python2.7/site-packages/keras/models.py:848: UserWarning: The `nb_epoch` argument in `fit` has been renamed `epochs`.\n",
      "  warnings.warn('The `nb_epoch` argument in `fit` '\n"
     ]
    },
    {
     "name": "stdout",
     "output_type": "stream",
     "text": [
      "Epoch 1/100\n",
      "1172/1172 [==============================] - 1s - loss: 0.0618     \n",
      "Epoch 2/100\n",
      "1172/1172 [==============================] - 0s - loss: 0.0199     \n",
      "Epoch 3/100\n",
      "1172/1172 [==============================] - 0s - loss: 0.0104     \n",
      "Epoch 4/100\n",
      "1172/1172 [==============================] - 0s - loss: 0.0076     \n",
      "Epoch 5/100\n",
      "1172/1172 [==============================] - 0s - loss: 0.0052     \n",
      "Epoch 6/100\n",
      "1172/1172 [==============================] - 0s - loss: 0.0032     \n",
      "Epoch 7/100\n",
      "1172/1172 [==============================] - 0s - loss: 0.0017     \n",
      "Epoch 8/100\n",
      "1172/1172 [==============================] - 0s - loss: 9.4534e-04     \n",
      "Epoch 9/100\n",
      "1172/1172 [==============================] - 1s - loss: 6.2734e-04     \n",
      "Epoch 10/100\n",
      "1172/1172 [==============================] - 0s - loss: 5.3443e-04     \n",
      "Epoch 11/100\n",
      "1172/1172 [==============================] - 0s - loss: 5.0412e-04     \n",
      "Epoch 12/100\n",
      "1172/1172 [==============================] - 1s - loss: 4.8831e-04     \n",
      "Epoch 13/100\n",
      "1172/1172 [==============================] - 1s - loss: 4.7536e-04     \n",
      "Epoch 14/100\n",
      "1172/1172 [==============================] - 1s - loss: 4.6387e-04     \n",
      "Epoch 15/100\n",
      "1172/1172 [==============================] - 0s - loss: 4.5411e-04     \n",
      "Epoch 16/100\n",
      "1172/1172 [==============================] - 0s - loss: 4.4328e-04     \n",
      "Epoch 17/100\n",
      "1172/1172 [==============================] - 1s - loss: 4.3560e-04     \n",
      "Epoch 18/100\n",
      "1172/1172 [==============================] - 1s - loss: 4.2555e-04     \n",
      "Epoch 19/100\n",
      "1172/1172 [==============================] - 0s - loss: 4.1914e-04     \n",
      "Epoch 20/100\n",
      "1172/1172 [==============================] - 1s - loss: 4.1082e-04     \n",
      "Epoch 21/100\n",
      "1172/1172 [==============================] - 1s - loss: 4.0579e-04     \n",
      "Epoch 22/100\n",
      "1172/1172 [==============================] - 1s - loss: 3.9916e-04     \n",
      "Epoch 23/100\n",
      "1172/1172 [==============================] - 1s - loss: 3.9505e-04     \n",
      "Epoch 24/100\n",
      "1172/1172 [==============================] - 1s - loss: 3.8872e-04     \n",
      "Epoch 25/100\n",
      "1172/1172 [==============================] - 1s - loss: 3.8777e-04     \n",
      "Epoch 26/100\n",
      "1172/1172 [==============================] - 1s - loss: 3.8131e-04     \n",
      "Epoch 27/100\n",
      "1172/1172 [==============================] - 1s - loss: 3.7953e-04     \n",
      "Epoch 28/100\n",
      "1172/1172 [==============================] - 1s - loss: 3.7683e-04     \n",
      "Epoch 29/100\n",
      "1172/1172 [==============================] - 1s - loss: 3.7331e-04     \n",
      "Epoch 30/100\n",
      "1172/1172 [==============================] - 0s - loss: 3.6922e-04     \n",
      "Epoch 31/100\n",
      "1172/1172 [==============================] - 0s - loss: 3.7075e-04     \n",
      "Epoch 32/100\n",
      "1172/1172 [==============================] - 1s - loss: 3.6715e-04     \n",
      "Epoch 33/100\n",
      "1172/1172 [==============================] - 0s - loss: 3.6427e-04     \n",
      "Epoch 34/100\n",
      "1172/1172 [==============================] - 1s - loss: 3.6193e-04     \n",
      "Epoch 35/100\n",
      "1172/1172 [==============================] - 1s - loss: 3.6015e-04     \n",
      "Epoch 36/100\n",
      "1172/1172 [==============================] - 1s - loss: 3.5902e-04     \n",
      "Epoch 37/100\n",
      "1172/1172 [==============================] - 1s - loss: 3.5636e-04     \n",
      "Epoch 38/100\n",
      "1172/1172 [==============================] - 1s - loss: 3.5456e-04     \n",
      "Epoch 39/100\n",
      "1172/1172 [==============================] - 0s - loss: 3.5409e-04     \n",
      "Epoch 40/100\n",
      "1172/1172 [==============================] - 1s - loss: 3.5296e-04     \n",
      "Epoch 41/100\n",
      "1172/1172 [==============================] - 0s - loss: 3.5109e-04     \n",
      "Epoch 42/100\n",
      "1172/1172 [==============================] - 0s - loss: 3.5341e-04     \n",
      "Epoch 43/100\n",
      "1172/1172 [==============================] - 1s - loss: 3.4782e-04     \n",
      "Epoch 44/100\n",
      "1172/1172 [==============================] - 1s - loss: 3.5143e-04     \n",
      "Epoch 45/100\n",
      "1172/1172 [==============================] - 1s - loss: 3.4722e-04     \n",
      "Epoch 46/100\n",
      "1172/1172 [==============================] - 1s - loss: 3.4582e-04     \n",
      "Epoch 47/100\n",
      "1172/1172 [==============================] - 0s - loss: 3.4598e-04     \n",
      "Epoch 48/100\n",
      "1172/1172 [==============================] - 1s - loss: 3.4893e-04     \n",
      "Epoch 49/100\n",
      "1172/1172 [==============================] - 0s - loss: 3.4309e-04     \n",
      "Epoch 50/100\n",
      "1172/1172 [==============================] - 1s - loss: 3.4339e-04     \n",
      "Epoch 51/100\n",
      "1172/1172 [==============================] - 0s - loss: 3.4461e-04     \n",
      "Epoch 52/100\n",
      "1172/1172 [==============================] - 1s - loss: 3.4160e-04     \n",
      "Epoch 53/100\n",
      "1172/1172 [==============================] - 0s - loss: 3.4135e-04     \n",
      "Epoch 54/100\n",
      "1172/1172 [==============================] - 1s - loss: 3.3645e-04     \n",
      "Epoch 55/100\n",
      "1172/1172 [==============================] - 0s - loss: 3.3625e-04     \n",
      "Epoch 56/100\n",
      "1172/1172 [==============================] - 1s - loss: 3.3373e-04     \n",
      "Epoch 57/100\n",
      "1172/1172 [==============================] - 1s - loss: 3.3434e-04     \n",
      "Epoch 58/100\n",
      "1172/1172 [==============================] - 1s - loss: 3.3663e-04     \n",
      "Epoch 59/100\n",
      "1172/1172 [==============================] - 1s - loss: 3.3708e-04     - ETA: 0s - \n",
      "Epoch 60/100\n",
      "1172/1172 [==============================] - 1s - loss: 3.3423e-04     \n",
      "Epoch 61/100\n",
      "1172/1172 [==============================] - 1s - loss: 3.2791e-04     \n",
      "Epoch 62/100\n",
      "1172/1172 [==============================] - 0s - loss: 3.3209e-04     \n",
      "Epoch 63/100\n",
      "1172/1172 [==============================] - 0s - loss: 3.3207e-04     \n",
      "Epoch 64/100\n",
      "1172/1172 [==============================] - 0s - loss: 3.2366e-04     \n",
      "Epoch 65/100\n",
      "1172/1172 [==============================] - 0s - loss: 3.2318e-04     \n",
      "Epoch 66/100\n",
      "1172/1172 [==============================] - 1s - loss: 3.2466e-04     \n",
      "Epoch 67/100\n",
      "1172/1172 [==============================] - 1s - loss: 3.2304e-04     \n",
      "Epoch 68/100\n",
      "1172/1172 [==============================] - 1s - loss: 3.2310e-04     \n",
      "Epoch 69/100\n",
      "1172/1172 [==============================] - 0s - loss: 3.1938e-04     \n",
      "Epoch 70/100\n",
      "1172/1172 [==============================] - 1s - loss: 3.2078e-04     \n",
      "Epoch 71/100\n",
      "1172/1172 [==============================] - 1s - loss: 3.1783e-04     \n",
      "Epoch 72/100\n",
      "1172/1172 [==============================] - 1s - loss: 3.2006e-04     \n",
      "Epoch 73/100\n",
      "1172/1172 [==============================] - 1s - loss: 3.1573e-04     \n",
      "Epoch 74/100\n",
      "1172/1172 [==============================] - 0s - loss: 3.1581e-04     - ETA: 0s - loss: 3.2406e-\n",
      "Epoch 75/100\n",
      "1172/1172 [==============================] - 1s - loss: 3.1304e-04     \n",
      "Epoch 76/100\n",
      "1172/1172 [==============================] - 1s - loss: 3.1253e-04     \n",
      "Epoch 77/100\n",
      "1172/1172 [==============================] - 1s - loss: 3.1653e-04     \n",
      "Epoch 78/100\n",
      "1172/1172 [==============================] - 1s - loss: 3.1060e-04     \n",
      "Epoch 79/100\n",
      "1172/1172 [==============================] - 1s - loss: 3.1159e-04     \n",
      "Epoch 80/100\n",
      "1172/1172 [==============================] - 0s - loss: 3.1118e-04     \n",
      "Epoch 81/100\n",
      "1172/1172 [==============================] - 0s - loss: 3.0656e-04     \n",
      "Epoch 82/100\n",
      "1172/1172 [==============================] - 0s - loss: 3.1177e-04     \n",
      "Epoch 83/100\n",
      "1172/1172 [==============================] - 1s - loss: 3.1483e-04     \n",
      "Epoch 84/100\n",
      "1172/1172 [==============================] - 1s - loss: 3.0538e-04     \n",
      "Epoch 85/100\n",
      "1172/1172 [==============================] - 1s - loss: 3.0606e-04     \n",
      "Epoch 86/100\n",
      "1172/1172 [==============================] - 1s - loss: 3.0408e-04     \n",
      "Epoch 87/100\n",
      "1172/1172 [==============================] - 1s - loss: 3.0033e-04     \n",
      "Epoch 88/100\n",
      "1172/1172 [==============================] - 0s - loss: 3.0105e-04     \n",
      "Epoch 89/100\n",
      "1172/1172 [==============================] - 0s - loss: 3.0191e-04     \n",
      "Epoch 90/100\n",
      "1172/1172 [==============================] - 1s - loss: 3.0116e-04     \n",
      "Epoch 91/100\n",
      "1172/1172 [==============================] - 0s - loss: 3.0017e-04     \n",
      "Epoch 92/100\n",
      "1172/1172 [==============================] - 0s - loss: 2.9847e-04     \n",
      "Epoch 93/100\n",
      "1172/1172 [==============================] - 0s - loss: 2.9791e-04     \n",
      "Epoch 94/100\n",
      "1172/1172 [==============================] - 1s - loss: 2.9431e-04     \n",
      "Epoch 95/100\n",
      "1172/1172 [==============================] - 1s - loss: 3.0003e-04     \n",
      "Epoch 96/100\n",
      "1172/1172 [==============================] - 1s - loss: 2.9203e-04     \n",
      "Epoch 97/100\n"
     ]
    },
    {
     "name": "stdout",
     "output_type": "stream",
     "text": [
      "1172/1172 [==============================] - 0s - loss: 2.9069e-04     \n",
      "Epoch 98/100\n",
      "1172/1172 [==============================] - 0s - loss: 2.9529e-04     \n",
      "Epoch 99/100\n",
      "1172/1172 [==============================] - 1s - loss: 2.9167e-04     \n",
      "Epoch 100/100\n",
      "1172/1172 [==============================] - 0s - loss: 2.8854e-04     \n"
     ]
    },
    {
     "data": {
      "text/plain": [
       "<keras.callbacks.History at 0x111cef490>"
      ]
     },
     "execution_count": 12,
     "metadata": {},
     "output_type": "execute_result"
    }
   ],
   "source": [
    "# create and fit the LSTM network\n",
    "model = Sequential()\n",
    "model.add(LSTM(4, input_shape=(look_back, 1)))\n",
    "model.add(Dense(1))\n",
    "model.compile(loss='mse', optimizer='adam')\n",
    "model.fit(trainX, trainY, nb_epoch=epochs, batch_size=batch_size)"
   ]
  },
  {
   "cell_type": "code",
   "execution_count": 13,
   "metadata": {
    "_cell_guid": "3fa7feea-4f1a-d36d-dffe-e13d92ccfa13",
    "_uuid": "e854bf4ddde34950fed4195753a25b5b5e402f05",
    "collapsed": true
   },
   "outputs": [],
   "source": [
    "# make predictions\n",
    "trainPredict = model.predict(trainX)\n",
    "testPredict = model.predict(testX)"
   ]
  },
  {
   "cell_type": "code",
   "execution_count": 14,
   "metadata": {
    "_cell_guid": "849ba7d8-5e7e-ae24-168e-aa2ef11211c5",
    "_uuid": "81e335c64513cc429af8c9f0faa466dccfac239c",
    "collapsed": true
   },
   "outputs": [],
   "source": [
    "# invert predictions and targets to unscaled\n",
    "trainPredict = scaler.inverse_transform(trainPredict)\n",
    "trainY = scaler.inverse_transform([trainY])\n",
    "testPredict = scaler.inverse_transform(testPredict)\n",
    "testY = scaler.inverse_transform([testY])"
   ]
  },
  {
   "cell_type": "code",
   "execution_count": 15,
   "metadata": {
    "_cell_guid": "d4eade10-b583-c7a6-1557-87d623f2b1a0",
    "_uuid": "88a834285c9d1545720d8c23811d8277a7435ba7"
   },
   "outputs": [
    {
     "name": "stdout",
     "output_type": "stream",
     "text": [
      "Train Score: 1.79 RMSE\n",
      "Test Score: 5.91 RMSE\n"
     ]
    }
   ],
   "source": [
    "# calculate root mean squared error\n",
    "trainScore = math.sqrt(mean_squared_error(trainY[0], trainPredict[:,0]))\n",
    "print('Train Score: %.2f RMSE' % (trainScore))\n",
    "testScore = math.sqrt(mean_squared_error(testY[0], testPredict[:,0]))\n",
    "print('Test Score: %.2f RMSE' % (testScore))"
   ]
  },
  {
   "cell_type": "code",
   "execution_count": 16,
   "metadata": {
    "_cell_guid": "639aa8cf-1c0b-6ada-963d-722d04311305",
    "_uuid": "329dd56e8bdd2b482e17dbfeeeee25d6d9cdbb0a",
    "collapsed": true
   },
   "outputs": [],
   "source": [
    "# shift predictions of training data for plotting\n",
    "trainPredictPlot = np.empty_like(apple_stock_prices)\n",
    "trainPredictPlot[:, :] = np.nan\n",
    "trainPredictPlot[look_back:len(trainPredict)+look_back, :] = trainPredict\n",
    "\n",
    "# shift predictions of test data for plotting\n",
    "testPredictPlot = np.empty_like(apple_stock_prices)\n",
    "testPredictPlot[:, :] = np.nan\n",
    "testPredictPlot[len(trainPredict)+(look_back*2)+1:len(apple_stock_prices)-1, :] = testPredict"
   ]
  },
  {
   "cell_type": "code",
   "execution_count": 17,
   "metadata": {
    "_cell_guid": "e429a35b-9439-150b-bfbd-25261337a07c",
    "_uuid": "e95aaa50b822412942ad10b1057ae3b92deef0f7"
   },
   "outputs": [
    {
     "data": {
      "image/png": "[encoded data removed]",
      "text/plain": [
       "<matplotlib.figure.Figure at 0x11c0c4c90>"
      ]
     },
     "metadata": {},
     "output_type": "display_data"
    }
   ],
   "source": [
    "%matplotlib inline\n",
    "%pylab inline\n",
    "pylab.rcParams['figure.figsize'] = (16, 10)\n",
    "import matplotlib\n",
    "import numpy as np\n",
    "import matplotlib.pyplot as plt\n",
    "\n",
    "# plot baseline and predictions\n",
    "real_apple, = plt.plot(scaler.inverse_transform(apple_stock_prices))\n",
    "predict_train, = plt.plot(trainPredictPlot)\n",
    "predict_test, = plt.plot(testPredictPlot)\n",
    "plt.legend(handles=[real_apple, predict_train, predict_test])\n",
    "plt.show()"
   ]
  }
 ],
 "metadata": {
  "_change_revision": 0,
  "_is_fork": false,
  "kernelspec": {
   "display_name": "Python 2",
   "language": "python",
   "name": "python2"
  },
  "language_info": {
   "codemirror_mode": {
    "name": "ipython",
    "version": 2
   },
   "file_extension": ".py",
   "mimetype": "text/x-python",
   "name": "python",
   "nbconvert_exporter": "python",
   "pygments_lexer": "ipython2",
   "version": "2.7.13"
  }
 },
 "nbformat": 4,
 "nbformat_minor": 1
}
