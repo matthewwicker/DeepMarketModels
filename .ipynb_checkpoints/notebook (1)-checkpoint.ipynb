{
 "cells": [
  {
   "cell_type": "markdown",
   "metadata": {
    "_active": false,
    "_cell_guid": "969d6ca2-efa8-ea00-2e8f-9e07655626d8",
    "_uuid": "e04402b5168d6ba6aafb23ae805f9bd3238ba26a"
   },
   "source": [
    "based on \n",
    "https://github.com/llSourcell/How-to-Predict-Stock-Prices-Easily-Demo\n",
    "and\n",
    "http://machinelearningmastery.com/time-series-prediction-lstm-recurrent-neural-networks-python-keras/\n",
    "\n",
    "I just want to predict if a stock will rise based on previous information"
   ]
  },
  {
   "cell_type": "code",
   "execution_count": 1,
   "metadata": {
    "_active": false,
    "_cell_guid": "f366cf34-f601-7e9b-53e5-5b4e2713044f",
    "_uuid": "5c44faaa09b0089f8c805b7063dae418e4c6b192"
   },
   "outputs": [
    {
     "name": "stderr",
     "output_type": "stream",
     "text": [
      "Using TensorFlow backend.\n",
      "/usr/local/lib/python2.7/site-packages/sklearn/cross_validation.py:44: DeprecationWarning: This module was deprecated in version 0.18 in favor of the model_selection module into which all the refactored classes and functions are moved. Also note that the interface of the new CV iterators are different from that of this module. This module will be removed in 0.20.\n",
      "  \"This module will be removed in 0.20.\", DeprecationWarning)\n"
     ]
    }
   ],
   "source": [
    "import numpy as np # linear algebra\n",
    "import pandas as pd # data processing, CSV file I/O (e.g. pd.read_csv)\n",
    "\n",
    "from subprocess import check_output\n",
    "from keras.layers.core import Dense, Activation, Dropout\n",
    "from keras.layers.recurrent import LSTM\n",
    "from keras.models import Sequential\n",
    "from sklearn.cross_validation import  train_test_split\n",
    "import time #helper libraries\n",
    "from sklearn.preprocessing import MinMaxScaler\n",
    "import matplotlib.pyplot as plt\n",
    "from numpy import newaxis"
   ]
  },
  {
   "cell_type": "code",
   "execution_count": 2,
   "metadata": {
    "_active": false,
    "_cell_guid": "e7c1344f-59af-8372-0376-940a72566da6",
    "_uuid": "dde1e925adc9d83edfd47f053d60ed51ede3a3fb"
   },
   "outputs": [],
   "source": [
    "prices_dataset =  pd.read_csv('nyse/prices.csv', header=0)\n",
    "#prices_dataset"
   ]
  },
  {
   "cell_type": "code",
   "execution_count": 3,
   "metadata": {
    "_active": false,
    "_cell_guid": "afbaa2e6-6f36-7726-bff0-399b365382fb",
    "_uuid": "ac4122a69efb3423b5c567c26093e35cc88c230d"
   },
   "outputs": [
    {
     "name": "stdout",
     "output_type": "stream",
     "text": [
      "                    date symbol        open       close         low  \\\n",
      "0    2016-01-05 00:00:00   WLTW  123.430000  125.839996  122.309998   \n",
      "1    2016-01-06 00:00:00   WLTW  125.239998  119.980003  119.940002   \n",
      "2    2016-01-07 00:00:00   WLTW  116.379997  114.949997  114.930000   \n",
      "3    2016-01-08 00:00:00   WLTW  115.480003  116.620003  113.500000   \n",
      "4    2016-01-11 00:00:00   WLTW  117.010002  114.970001  114.089996   \n",
      "5    2016-01-12 00:00:00   WLTW  115.510002  115.550003  114.500000   \n",
      "6    2016-01-13 00:00:00   WLTW  116.459999  112.849998  112.589996   \n",
      "7    2016-01-14 00:00:00   WLTW  113.510002  114.379997  110.050003   \n",
      "8    2016-01-15 00:00:00   WLTW  113.330002  112.529999  111.919998   \n",
      "9    2016-01-19 00:00:00   WLTW  113.660004  110.379997  109.870003   \n",
      "10   2016-01-20 00:00:00   WLTW  109.059998  109.300003  108.320000   \n",
      "11   2016-01-21 00:00:00   WLTW  109.730003  110.000000  108.320000   \n",
      "12   2016-01-22 00:00:00   WLTW  111.879997  111.949997  110.190002   \n",
      "13   2016-01-25 00:00:00   WLTW  111.320000  110.120003  110.000000   \n",
      "14   2016-01-26 00:00:00   WLTW  110.419998  111.000000  107.300003   \n",
      "15   2016-01-27 00:00:00   WLTW  110.769997  110.709999  109.019997   \n",
      "16   2016-01-28 00:00:00   WLTW  110.900002  112.580002  109.900002   \n",
      "17   2016-01-29 00:00:00   WLTW  113.349998  114.470001  111.669998   \n",
      "18   2016-02-01 00:00:00   WLTW  114.000000  114.500000  112.900002   \n",
      "19   2016-02-02 00:00:00   WLTW  113.250000  110.559998  109.750000   \n",
      "20   2016-02-03 00:00:00   WLTW  113.379997  114.050003  109.639999   \n",
      "21   2016-02-04 00:00:00   WLTW  114.080002  115.709999  114.080002   \n",
      "22   2016-02-05 00:00:00   WLTW  115.120003  114.019997  109.709999   \n",
      "23   2016-02-08 00:00:00   WLTW  113.300003  111.160004  110.459999   \n",
      "24   2016-02-09 00:00:00   WLTW  111.169998  110.650002  109.639999   \n",
      "25   2016-02-10 00:00:00   WLTW  106.730003  107.519997  106.360001   \n",
      "26   2016-02-11 00:00:00   WLTW  105.629997  107.129997  104.110001   \n",
      "27   2016-02-12 00:00:00   WLTW  108.559998  107.839996  107.070000   \n",
      "28   2016-02-16 00:00:00   WLTW  109.110001  110.769997  107.010002   \n",
      "29   2016-02-17 00:00:00   WLTW  110.830002  111.239998  107.970001   \n",
      "..                   ...    ...         ...         ...         ...   \n",
      "221  2016-11-17 00:00:00   WLTW  122.790001  124.599998  122.190002   \n",
      "222  2016-11-18 00:00:00   WLTW  124.790001  124.820000  124.300003   \n",
      "223  2016-11-21 00:00:00   WLTW  125.099998  123.889999  123.529999   \n",
      "224  2016-11-22 00:00:00   WLTW  124.370003  124.820000  122.919998   \n",
      "225  2016-11-23 00:00:00   WLTW  124.820000  124.559998  123.669998   \n",
      "226  2016-11-25 00:00:00   WLTW  124.550003  125.300003  123.949997   \n",
      "227  2016-11-28 00:00:00   WLTW  124.820000  124.370003  123.209999   \n",
      "228  2016-11-29 00:00:00   WLTW  124.760002  124.379997  123.820000   \n",
      "229  2016-11-30 00:00:00   WLTW  125.500000  124.370003  124.120003   \n",
      "230  2016-12-01 00:00:00   WLTW  125.099998  121.419998  120.889999   \n",
      "231  2016-12-02 00:00:00   WLTW  121.430000  119.940002  119.699997   \n",
      "232  2016-12-05 00:00:00   WLTW  120.690002  121.480003  120.180000   \n",
      "233  2016-12-06 00:00:00   WLTW  121.480003  124.760002  121.330002   \n",
      "234  2016-12-07 00:00:00   WLTW  124.900002  124.750000  124.050003   \n",
      "235  2016-12-08 00:00:00   WLTW  125.190002  123.000000  121.949997   \n",
      "236  2016-12-09 00:00:00   WLTW  122.800003  122.790001  122.430000   \n",
      "237  2016-12-12 00:00:00   WLTW  122.639999  121.209999  120.970001   \n",
      "238  2016-12-13 00:00:00   WLTW  126.449997  124.459999  123.629997   \n",
      "239  2016-12-14 00:00:00   WLTW  124.000000  122.260002  122.019997   \n",
      "240  2016-12-15 00:00:00   WLTW  122.800003  122.370003  121.760002   \n",
      "241  2016-12-16 00:00:00   WLTW  122.440002  122.330002  121.699997   \n",
      "242  2016-12-19 00:00:00   WLTW  122.320000  123.629997  121.790001   \n",
      "243  2016-12-20 00:00:00   WLTW  124.330002  123.839996  123.419998   \n",
      "244  2016-12-21 00:00:00   WLTW  123.900002  122.989998  122.870003   \n",
      "245  2016-12-22 00:00:00   WLTW  122.519997  122.849998  121.730003   \n",
      "246  2016-12-23 00:00:00   WLTW  123.089996  124.489998  122.709999   \n",
      "247  2016-12-27 00:00:00   WLTW  124.570000  124.279999  124.010002   \n",
      "248  2016-12-28 00:00:00   WLTW  124.300003  122.379997  121.900002   \n",
      "249  2016-12-29 00:00:00   WLTW  122.449997  122.169998  121.599998   \n",
      "250  2016-12-30 00:00:00   WLTW  122.589996  122.279999  121.389999   \n",
      "\n",
      "           high     volume  \n",
      "0    126.250000  2163600.0  \n",
      "1    125.540001  2386400.0  \n",
      "2    119.739998  2489500.0  \n",
      "3    117.440002  2006300.0  \n",
      "4    117.330002  1408600.0  \n",
      "5    116.059998  1098000.0  \n",
      "6    117.070000   949600.0  \n",
      "7    115.029999   785300.0  \n",
      "8    114.879997  1093700.0  \n",
      "9    115.870003  1523500.0  \n",
      "10   111.599998  1653900.0  \n",
      "11   110.580002   944300.0  \n",
      "12   112.949997   744900.0  \n",
      "13   114.629997   703800.0  \n",
      "14   111.400002   563100.0  \n",
      "15   112.570000   896100.0  \n",
      "16   112.970001   680400.0  \n",
      "17   114.589996   749900.0  \n",
      "18   114.849998   574200.0  \n",
      "19   113.860001   694800.0  \n",
      "20   114.639999   896300.0  \n",
      "21   116.320000   956300.0  \n",
      "22   116.489998   997100.0  \n",
      "23   113.300003  1200500.0  \n",
      "24   112.110001  1725200.0  \n",
      "25   112.110001  1946000.0  \n",
      "26   109.260002  1319500.0  \n",
      "27   109.430000   922400.0  \n",
      "28   111.300003  1185100.0  \n",
      "29   112.110001   921500.0  \n",
      "..          ...        ...  \n",
      "221  124.639999   524500.0  \n",
      "222  125.949997   819000.0  \n",
      "223  125.459999   475900.0  \n",
      "224  125.400002  1011700.0  \n",
      "225  125.550003   380200.0  \n",
      "226  125.419998   284000.0  \n",
      "227  125.190002   439900.0  \n",
      "228  124.839996   352900.0  \n",
      "229  126.000000   676700.0  \n",
      "230  125.370003   898700.0  \n",
      "231  121.559998   855800.0  \n",
      "232  122.059998   604700.0  \n",
      "233  124.919998  1301200.0  \n",
      "234  125.519997   928300.0  \n",
      "235  125.910004   988500.0  \n",
      "236  123.300003   943400.0  \n",
      "237  122.970001   822500.0  \n",
      "238  126.930000  1168200.0  \n",
      "239  124.889999   846400.0  \n",
      "240  123.230003   826600.0  \n",
      "241  123.370003  1232700.0  \n",
      "242  123.970001   937600.0  \n",
      "243  124.489998   651500.0  \n",
      "244  124.150002   614600.0  \n",
      "245  123.690002   557200.0  \n",
      "246  124.660004   361900.0  \n",
      "247  124.900002   382900.0  \n",
      "248  124.300003   429900.0  \n",
      "249  123.070000   216600.0  \n",
      "250  123.559998   466400.0  \n",
      "\n",
      "[251 rows x 7 columns]\n"
     ]
    }
   ],
   "source": [
    "wltw = prices_dataset[prices_dataset['symbol']=='AAPL']\n",
    "wltw.shape\n",
    "print wltw"
   ]
  },
  {
   "cell_type": "code",
   "execution_count": 4,
   "metadata": {
    "_active": false,
    "_cell_guid": "a7fe4936-c44b-1788-a16b-35b5b1eb675c",
    "_uuid": "adc7b8d3c9de74ee70203a5b93a410dcb8de08bc"
   },
   "outputs": [
    {
     "data": {
      "image/png": "[encoded data removed]",
      "text/plain": [
       "<matplotlib.figure.Figure at 0x10d354910>"
      ]
     },
     "metadata": {},
     "output_type": "display_data"
    }
   ],
   "source": [
    "wltw_stock_prices = wltw.close.values.astype('float32')\n",
    "\n",
    "plt.plot(wltw_stock_prices)\n",
    "plt.show()\n",
    "\n",
    "wltw_stock_prices=wltw_stock_prices.reshape(-1, 1)\n",
    "scaler = MinMaxScaler(feature_range=(0, 1))\n",
    "wltw_stock_prices = scaler.fit_transform(wltw_stock_prices)"
   ]
  },
  {
   "cell_type": "code",
   "execution_count": 5,
   "metadata": {
    "_active": false,
    "_cell_guid": "2f69042b-d335-b8ff-ec17-980189526e7d",
    "_uuid": "7408e43484805131e144ff013f5d75ec597f4cb7"
   },
   "outputs": [
    {
     "name": "stdout",
     "output_type": "stream",
     "text": [
      "(168, 83)\n"
     ]
    }
   ],
   "source": [
    "train_size = int(len(wltw_stock_prices) * 0.67)\n",
    "test_size = len(wltw_stock_prices) - train_size\n",
    "train, test = wltw_stock_prices[0:train_size,:], wltw_stock_prices[train_size:len(wltw_stock_prices),:]\n",
    "print(len(train), len(test))"
   ]
  },
  {
   "cell_type": "code",
   "execution_count": 6,
   "metadata": {
    "_active": false,
    "_cell_guid": "f9d24454-e0a4-a6e5-f04f-1b46b810158c",
    "_uuid": "e4c454fff5fc3dd3117015493789875f72a20dc5",
    "collapsed": true
   },
   "outputs": [],
   "source": [
    "# convert an array of values into a dataset matrix\n",
    "def create_dataset(dataset, look_back=1):\n",
    "    dataX, dataY = [], []\n",
    "    for i in range(len(dataset)-look_back-1):\n",
    "        a = dataset[i:(i+look_back), 0]\n",
    "        dataX.append(a)\n",
    "        dataY.append(dataset[i + look_back, 0])\n",
    "    return np.array(dataX), np.array(dataY)"
   ]
  },
  {
   "cell_type": "code",
   "execution_count": 7,
   "metadata": {
    "_active": false,
    "_cell_guid": "17f5bc9d-47ad-2206-71cd-e85ecac42175",
    "_uuid": "c18bf9d08fa525042892b0fbdb3f36374b9e6a2e",
    "collapsed": true
   },
   "outputs": [],
   "source": [
    "# reshape into X=t and Y=t+1\n",
    "look_back = 1\n",
    "trainX, trainY = create_dataset(train, look_back)\n",
    "testX, testY = create_dataset(test, look_back)"
   ]
  },
  {
   "cell_type": "code",
   "execution_count": 8,
   "metadata": {
    "_active": false,
    "_cell_guid": "a74ff89f-d274-de8c-f11c-bf2ffaf29eed",
    "_uuid": "5adb5a60e0c873d86af69a54a89d10e9dd6b66d2",
    "collapsed": true
   },
   "outputs": [],
   "source": [
    "trainX = np.reshape(trainX, (trainX.shape[0], 1, trainX.shape[1]))\n",
    "testX = np.reshape(testX, (testX.shape[0], 1, testX.shape[1]))"
   ]
  },
  {
   "cell_type": "code",
   "execution_count": 9,
   "metadata": {
    "_active": false,
    "_cell_guid": "6e379f90-c703-6712-12ed-9aa0942a5408",
    "_uuid": "43cf9eadccfa6ecbecb49b84c467326e4042a7b0"
   },
   "outputs": [
    {
     "name": "stderr",
     "output_type": "stream",
     "text": [
      "/usr/local/lib/python2.7/site-packages/ipykernel_launcher.py:7: UserWarning: The `input_dim` and `input_length` arguments in recurrent layers are deprecated. Use `input_shape` instead.\n",
      "  import sys\n",
      "/usr/local/lib/python2.7/site-packages/ipykernel_launcher.py:7: UserWarning: Update your `LSTM` call to the Keras 2 API: `LSTM(units=50, return_sequences=True, input_shape=(None, 1))`\n",
      "  import sys\n"
     ]
    },
    {
     "name": "stdout",
     "output_type": "stream",
     "text": [
      "('compilation time : ', 0.03230690956115723)\n"
     ]
    },
    {
     "name": "stderr",
     "output_type": "stream",
     "text": [
      "/usr/local/lib/python2.7/site-packages/ipykernel_launcher.py:16: UserWarning: Update your `Dense` call to the Keras 2 API: `Dense(units=1)`\n",
      "  app.launch_new_instance()\n"
     ]
    }
   ],
   "source": [
    "#Step 2 Build Model\n",
    "model = Sequential()\n",
    "\n",
    "model.add(LSTM(\n",
    "    input_dim=1,\n",
    "    output_dim=50,\n",
    "    return_sequences=True))\n",
    "model.add(Dropout(0.2))\n",
    "\n",
    "model.add(LSTM(\n",
    "    100,\n",
    "    return_sequences=False))\n",
    "model.add(Dropout(0.2))\n",
    "\n",
    "model.add(Dense(\n",
    "    output_dim=1))\n",
    "model.add(Activation('linear'))\n",
    "\n",
    "start = time.time()\n",
    "model.compile(loss='mse', optimizer='rmsprop')\n",
    "print ('compilation time : ', time.time() - start)"
   ]
  },
  {
   "cell_type": "code",
   "execution_count": 10,
   "metadata": {
    "_active": true,
    "_cell_guid": "e668a235-00fe-4fe3-925b-99051ae376f9",
    "_uuid": "ddcfade77814909c3b76d77cc58cef36a1d344ec"
   },
   "outputs": [
    {
     "name": "stderr",
     "output_type": "stream",
     "text": [
      "/usr/local/lib/python2.7/site-packages/keras/models.py:848: UserWarning: The `nb_epoch` argument in `fit` has been renamed `epochs`.\n",
      "  warnings.warn('The `nb_epoch` argument in `fit` '\n"
     ]
    },
    {
     "name": "stdout",
     "output_type": "stream",
     "text": [
      "Train on 149 samples, validate on 17 samples\n",
      "Epoch 1/100\n",
      "149/149 [==============================] - 1s - loss: 0.3000 - val_loss: 0.3125\n",
      "Epoch 2/100\n",
      "149/149 [==============================] - 0s - loss: 0.2633 - val_loss: 0.2808\n",
      "Epoch 3/100\n",
      "149/149 [==============================] - 0s - loss: 0.2377 - val_loss: 0.2496\n",
      "Epoch 4/100\n",
      "149/149 [==============================] - 0s - loss: 0.2115 - val_loss: 0.2227\n",
      "Epoch 5/100\n",
      "149/149 [==============================] - 0s - loss: 0.1880 - val_loss: 0.1942\n",
      "Epoch 6/100\n",
      "149/149 [==============================] - 0s - loss: 0.1652 - val_loss: 0.1669\n",
      "Epoch 7/100\n",
      "149/149 [==============================] - 0s - loss: 0.1433 - val_loss: 0.1413\n",
      "Epoch 8/100\n",
      "149/149 [==============================] - 0s - loss: 0.1222 - val_loss: 0.1189\n",
      "Epoch 9/100\n",
      "149/149 [==============================] - 0s - loss: 0.1027 - val_loss: 0.1002\n",
      "Epoch 10/100\n",
      "149/149 [==============================] - 0s - loss: 0.0897 - val_loss: 0.0812\n",
      "Epoch 11/100\n",
      "149/149 [==============================] - 0s - loss: 0.0731 - val_loss: 0.0645\n",
      "Epoch 12/100\n",
      "149/149 [==============================] - 0s - loss: 0.0625 - val_loss: 0.0498\n",
      "Epoch 13/100\n",
      "149/149 [==============================] - 0s - loss: 0.0506 - val_loss: 0.0347\n",
      "Epoch 14/100\n",
      "149/149 [==============================] - 0s - loss: 0.0411 - val_loss: 0.0260\n",
      "Epoch 15/100\n",
      "149/149 [==============================] - 0s - loss: 0.0350 - val_loss: 0.0186\n",
      "Epoch 16/100\n",
      "149/149 [==============================] - 0s - loss: 0.0309 - val_loss: 0.0137\n",
      "Epoch 17/100\n",
      "149/149 [==============================] - 0s - loss: 0.0261 - val_loss: 0.0090\n",
      "Epoch 18/100\n",
      "149/149 [==============================] - 0s - loss: 0.0254 - val_loss: 0.0061\n",
      "Epoch 19/100\n",
      "149/149 [==============================] - 0s - loss: 0.0234 - val_loss: 0.0051\n",
      "Epoch 20/100\n",
      "149/149 [==============================] - 0s - loss: 0.0217 - val_loss: 0.0033\n",
      "Epoch 21/100\n",
      "149/149 [==============================] - 0s - loss: 0.0222 - val_loss: 0.0024\n",
      "Epoch 22/100\n",
      "149/149 [==============================] - 0s - loss: 0.0202 - val_loss: 0.0022\n",
      "Epoch 23/100\n",
      "149/149 [==============================] - 0s - loss: 0.0198 - val_loss: 0.0026\n",
      "Epoch 24/100\n",
      "149/149 [==============================] - 0s - loss: 0.0202 - val_loss: 0.0023\n",
      "Epoch 25/100\n",
      "149/149 [==============================] - 0s - loss: 0.0193 - val_loss: 0.0032\n",
      "Epoch 26/100\n",
      "149/149 [==============================] - 0s - loss: 0.0211 - val_loss: 0.0026\n",
      "Epoch 27/100\n",
      "149/149 [==============================] - 0s - loss: 0.0172 - val_loss: 0.0012\n",
      "Epoch 28/100\n",
      "149/149 [==============================] - 0s - loss: 0.0185 - val_loss: 0.0021\n",
      "Epoch 29/100\n",
      "149/149 [==============================] - 0s - loss: 0.0176 - val_loss: 7.2590e-04\n",
      "Epoch 30/100\n",
      "149/149 [==============================] - 0s - loss: 0.0182 - val_loss: 7.5225e-04\n",
      "Epoch 31/100\n",
      "149/149 [==============================] - 0s - loss: 0.0183 - val_loss: 8.5430e-04\n",
      "Epoch 32/100\n",
      "149/149 [==============================] - 0s - loss: 0.0163 - val_loss: 0.0020\n",
      "Epoch 33/100\n",
      "149/149 [==============================] - 0s - loss: 0.0171 - val_loss: 0.0017\n",
      "Epoch 34/100\n",
      "149/149 [==============================] - 0s - loss: 0.0156 - val_loss: 8.8921e-04\n",
      "Epoch 35/100\n",
      "149/149 [==============================] - 0s - loss: 0.0162 - val_loss: 0.0037\n",
      "Epoch 36/100\n",
      "149/149 [==============================] - 0s - loss: 0.0143 - val_loss: 0.0020\n",
      "Epoch 37/100\n",
      "149/149 [==============================] - 0s - loss: 0.0152 - val_loss: 0.0032\n",
      "Epoch 38/100\n",
      "149/149 [==============================] - 0s - loss: 0.0124 - val_loss: 0.0012\n",
      "Epoch 39/100\n",
      "149/149 [==============================] - 0s - loss: 0.0130 - val_loss: 6.1367e-04\n",
      "Epoch 40/100\n",
      "149/149 [==============================] - 0s - loss: 0.0122 - val_loss: 5.8061e-04\n",
      "Epoch 41/100\n",
      "149/149 [==============================] - 0s - loss: 0.0127 - val_loss: 9.3708e-04\n",
      "Epoch 42/100\n",
      "149/149 [==============================] - 0s - loss: 0.0121 - val_loss: 0.0011\n",
      "Epoch 43/100\n",
      "149/149 [==============================] - 0s - loss: 0.0114 - val_loss: 0.0010\n",
      "Epoch 44/100\n",
      "149/149 [==============================] - 0s - loss: 0.0107 - val_loss: 0.0011\n",
      "Epoch 45/100\n",
      "149/149 [==============================] - 0s - loss: 0.0092 - val_loss: 0.0030\n",
      "Epoch 46/100\n",
      "149/149 [==============================] - 0s - loss: 0.0105 - val_loss: 0.0018\n",
      "Epoch 47/100\n",
      "149/149 [==============================] - 0s - loss: 0.0106 - val_loss: 6.2248e-04\n",
      "Epoch 48/100\n",
      "149/149 [==============================] - 0s - loss: 0.0098 - val_loss: 0.0017\n",
      "Epoch 49/100\n",
      "149/149 [==============================] - 0s - loss: 0.0099 - val_loss: 0.0011\n",
      "Epoch 50/100\n",
      "149/149 [==============================] - 0s - loss: 0.0103 - val_loss: 0.0018\n",
      "Epoch 51/100\n",
      "149/149 [==============================] - 0s - loss: 0.0104 - val_loss: 5.8600e-04\n",
      "Epoch 52/100\n",
      "149/149 [==============================] - 0s - loss: 0.0090 - val_loss: 0.0025\n",
      "Epoch 53/100\n",
      "149/149 [==============================] - 0s - loss: 0.0101 - val_loss: 6.3088e-04\n",
      "Epoch 54/100\n",
      "149/149 [==============================] - 0s - loss: 0.0073 - val_loss: 0.0032\n",
      "Epoch 55/100\n",
      "149/149 [==============================] - 0s - loss: 0.0088 - val_loss: 8.3289e-04\n",
      "Epoch 56/100\n",
      "149/149 [==============================] - 0s - loss: 0.0109 - val_loss: 6.4176e-04\n",
      "Epoch 57/100\n",
      "149/149 [==============================] - 0s - loss: 0.0082 - val_loss: 0.0041\n",
      "Epoch 58/100\n",
      "149/149 [==============================] - 0s - loss: 0.0091 - val_loss: 0.0012\n",
      "Epoch 59/100\n",
      "149/149 [==============================] - 0s - loss: 0.0084 - val_loss: 4.8620e-04\n",
      "Epoch 60/100\n",
      "149/149 [==============================] - 0s - loss: 0.0092 - val_loss: 6.9628e-04\n",
      "Epoch 61/100\n",
      "149/149 [==============================] - 0s - loss: 0.0088 - val_loss: 4.5711e-04\n",
      "Epoch 62/100\n",
      "149/149 [==============================] - 0s - loss: 0.0084 - val_loss: 0.0042\n",
      "Epoch 63/100\n",
      "149/149 [==============================] - 0s - loss: 0.0089 - val_loss: 7.8485e-04\n",
      "Epoch 64/100\n",
      "149/149 [==============================] - 0s - loss: 0.0097 - val_loss: 0.0033\n",
      "Epoch 65/100\n",
      "149/149 [==============================] - 0s - loss: 0.0077 - val_loss: 0.0011\n",
      "Epoch 66/100\n",
      "149/149 [==============================] - 0s - loss: 0.0076 - val_loss: 4.6503e-04\n",
      "Epoch 67/100\n",
      "149/149 [==============================] - 0s - loss: 0.0081 - val_loss: 8.7077e-04\n",
      "Epoch 68/100\n",
      "149/149 [==============================] - 0s - loss: 0.0072 - val_loss: 9.7696e-04\n",
      "Epoch 69/100\n",
      "149/149 [==============================] - 0s - loss: 0.0074 - val_loss: 0.0034\n",
      "Epoch 70/100\n",
      "149/149 [==============================] - 0s - loss: 0.0085 - val_loss: 0.0032\n",
      "Epoch 71/100\n",
      "149/149 [==============================] - 0s - loss: 0.0084 - val_loss: 6.7908e-04\n",
      "Epoch 72/100\n",
      "149/149 [==============================] - 0s - loss: 0.0089 - val_loss: 0.0012\n",
      "Epoch 73/100\n",
      "149/149 [==============================] - 0s - loss: 0.0079 - val_loss: 5.0322e-04\n",
      "Epoch 74/100\n",
      "149/149 [==============================] - 0s - loss: 0.0067 - val_loss: 5.2149e-04\n",
      "Epoch 75/100\n",
      "149/149 [==============================] - 0s - loss: 0.0087 - val_loss: 9.2038e-04\n",
      "Epoch 76/100\n",
      "149/149 [==============================] - 0s - loss: 0.0073 - val_loss: 6.3301e-04\n",
      "Epoch 77/100\n",
      "149/149 [==============================] - 0s - loss: 0.0072 - val_loss: 0.0018\n",
      "Epoch 78/100\n",
      "149/149 [==============================] - 0s - loss: 0.0085 - val_loss: 5.9909e-04\n",
      "Epoch 79/100\n",
      "149/149 [==============================] - 0s - loss: 0.0071 - val_loss: 0.0010\n",
      "Epoch 80/100\n",
      "149/149 [==============================] - 0s - loss: 0.0082 - val_loss: 0.0011\n",
      "Epoch 81/100\n",
      "149/149 [==============================] - 0s - loss: 0.0070 - val_loss: 0.0012\n",
      "Epoch 82/100\n",
      "149/149 [==============================] - 0s - loss: 0.0089 - val_loss: 0.0021\n",
      "Epoch 83/100\n",
      "149/149 [==============================] - 0s - loss: 0.0087 - val_loss: 5.4756e-04\n",
      "Epoch 84/100\n",
      "149/149 [==============================] - 0s - loss: 0.0084 - val_loss: 0.0035\n",
      "Epoch 85/100\n",
      "149/149 [==============================] - 0s - loss: 0.0099 - val_loss: 0.0023\n",
      "Epoch 86/100\n",
      "149/149 [==============================] - 0s - loss: 0.0094 - val_loss: 0.0054\n",
      "Epoch 87/100\n"
     ]
    },
    {
     "name": "stdout",
     "output_type": "stream",
     "text": [
      "149/149 [==============================] - 0s - loss: 0.0106 - val_loss: 5.4414e-04\n",
      "Epoch 88/100\n",
      "149/149 [==============================] - 0s - loss: 0.0069 - val_loss: 0.0018\n",
      "Epoch 89/100\n",
      "149/149 [==============================] - 0s - loss: 0.0086 - val_loss: 0.0015\n",
      "Epoch 90/100\n",
      "149/149 [==============================] - 0s - loss: 0.0085 - val_loss: 0.0020\n",
      "Epoch 91/100\n",
      "149/149 [==============================] - 0s - loss: 0.0086 - val_loss: 4.9824e-04\n",
      "Epoch 92/100\n",
      "149/149 [==============================] - 0s - loss: 0.0083 - val_loss: 4.8126e-04\n",
      "Epoch 93/100\n",
      "149/149 [==============================] - 0s - loss: 0.0084 - val_loss: 6.9101e-04\n",
      "Epoch 94/100\n",
      "149/149 [==============================] - 0s - loss: 0.0077 - val_loss: 7.6721e-04\n",
      "Epoch 95/100\n",
      "149/149 [==============================] - 0s - loss: 0.0073 - val_loss: 5.6042e-04\n",
      "Epoch 96/100\n",
      "149/149 [==============================] - 0s - loss: 0.0105 - val_loss: 0.0020\n",
      "Epoch 97/100\n",
      "149/149 [==============================] - 0s - loss: 0.0078 - val_loss: 0.0014\n",
      "Epoch 98/100\n",
      "149/149 [==============================] - 0s - loss: 0.0082 - val_loss: 4.8537e-04\n",
      "Epoch 99/100\n",
      "149/149 [==============================] - 0s - loss: 0.0090 - val_loss: 0.0011\n",
      "Epoch 100/100\n",
      "149/149 [==============================] - 0s - loss: 0.0086 - val_loss: 0.0014\n"
     ]
    },
    {
     "data": {
      "text/plain": [
       "<keras.callbacks.History at 0x1220264d0>"
      ]
     },
     "execution_count": 10,
     "metadata": {},
     "output_type": "execute_result"
    }
   ],
   "source": [
    "model.fit(\n",
    "    trainX,\n",
    "    trainY,\n",
    "    batch_size=128,\n",
    "    nb_epoch=100,\n",
    "    validation_split=0.10)"
   ]
  },
  {
   "cell_type": "code",
   "execution_count": 11,
   "metadata": {
    "_active": false,
    "_cell_guid": "7fbffc92-2c8b-e384-77a1-f042762c0593",
    "_uuid": "c34556157d50440f567202fa7406e4863862eb79"
   },
   "outputs": [
    {
     "data": {
      "image/png": "[encoded data removed]",
      "text/plain": [
       "<matplotlib.figure.Figure at 0x10d1713d0>"
      ]
     },
     "metadata": {},
     "output_type": "display_data"
    }
   ],
   "source": [
    "def plot_results_multiple(predicted_data, true_data):\n",
    "    true, = plt.plot(true_data, label='True')\n",
    "    pred, = plt.plot(predicted_data, label='Predicted')\n",
    "    plt.show()\n",
    "    \n",
    "#predict lenght consecutive values from a real one\n",
    "def predict_sequences_multiple(model, firstValue,length):\n",
    "    prediction_seqs = []\n",
    "    curr_frame = firstValue\n",
    "   \n",
    "    for i in range(length): \n",
    "        predicted = []        \n",
    "        predicted.append(model.predict(curr_frame[newaxis,:,:])[0,0])\n",
    "        \n",
    "        curr_frame = curr_frame[0:]\n",
    "        curr_frame = np.insert(curr_frame[0:], i+1, predicted[-1], axis=0)\n",
    "        \n",
    "        prediction_seqs.append(predicted[-1])\n",
    "        \n",
    "    return prediction_seqs\n",
    "\n",
    "predictions = predict_sequences_multiple(model, testX[0], len(testX))\n",
    "\n",
    "plot_results_multiple(predictions, testY)"
   ]
  }
 ],
 "metadata": {
  "kernelspec": {
   "display_name": "Python 2",
   "language": "python",
   "name": "python2"
  },
  "language_info": {
   "codemirror_mode": {
    "name": "ipython",
    "version": 2
   },
   "file_extension": ".py",
   "mimetype": "text/x-python",
   "name": "python",
   "nbconvert_exporter": "python",
   "pygments_lexer": "ipython2",
   "version": "2.7.13"
  }
 },
 "nbformat": 4,
 "nbformat_minor": 1
}
