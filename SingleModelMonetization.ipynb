{
 "cells": [
  {
   "cell_type": "markdown",
   "metadata": {},
   "source": [
    "# Single Model Monetization - Part 2\n",
    "### CSCI 4210 - Simulation and Modeling\n",
    "#### Matthew Wicker\n",
    "\n",
    "In this notebook, we will reload our pretrained model. Then, we will attempt to exploit this models prediction to maximize profits (or to minimize losses!).\n",
    "### Getting started - Clone the DeepMarketModels Repository:\n",
    "\n",
    "#### • From your terminal run the following command: git clone https://github.com/matthewwicker/DeepMarketModels.git\n",
    " "
   ]
  },
  {
   "cell_type": "code",
   "execution_count": 1,
   "metadata": {},
   "outputs": [
    {
     "name": "stderr",
     "output_type": "stream",
     "text": [
      "Using TensorFlow backend.\n"
     ]
    },
    {
     "name": "stdout",
     "output_type": "stream",
     "text": [
      "Populating the interactive namespace from numpy and matplotlib\n"
     ]
    },
    {
     "name": "stderr",
     "output_type": "stream",
     "text": [
      "/usr/local/lib/python2.7/dist-packages/sklearn/cross_validation.py:41: DeprecationWarning: This module was deprecated in version 0.18 in favor of the model_selection module into which all the refactored classes and functions are moved. Also note that the interface of the new CV iterators are different from that of this module. This module will be removed in 0.20.\n",
      "  \"This module will be removed in 0.20.\", DeprecationWarning)\n"
     ]
    }
   ],
   "source": [
    "import sys\n",
    "sys.path.append('/usr/local/lib/python2.7/site-packages')\n",
    "\n",
    "import csv\n",
    "import numpy as np\n",
    "from __future__ import print_function\n",
    "import numpy as np # linear algebra\n",
    "import pandas as pd # data processing, CSV file I/O (e.g. pd.read_csv)\n",
    "from keras.layers.core import Dense, Activation, Dropout\n",
    "from keras.layers.recurrent import LSTM\n",
    "from keras.models import Sequential\n",
    "from sklearn.cross_validation import  train_test_split\n",
    "from sklearn.preprocessing import MinMaxScaler\n",
    "from sklearn.metrics import mean_squared_error\n",
    "import math\n",
    "%matplotlib inline\n",
    "%pylab inline\n",
    "pylab.rcParams['figure.figsize'] = (16, 10)\n",
    "import matplotlib\n",
    "import numpy as np\n",
    "import matplotlib.pyplot as plt\n",
    "import os\n",
    "\n",
    "\n",
    "#===========================================================\n",
    "#          We have set these for reproducibility\n",
    "#===========================================================\n",
    "\n",
    "np.random.seed(5)\n",
    "look_back = 7\n",
    "\n",
    "#===========================================================\n",
    "#      Constants which define the stock you want to use\n",
    "#===========================================================\n",
    "\n",
    "# Here is the path to your finacial data from Yahoo:\n",
    "# Note: Replace NVIDIA stock. Not enough data on recent trends\n",
    "STOCK_TO_USE = \"MCD\"\n",
    "DATA_PATH = \"FinData/\" + STOCK_TO_USE + \".csv\"\n",
    "MODEL_JSON_PATH = \"FinModels/\" + STOCK_TO_USE + \".json\"\n",
    "MODEL_WEIGHT_PATH = \"FinModels/\" + STOCK_TO_USE + \".h5\""
   ]
  },
  {
   "cell_type": "markdown",
   "metadata": {},
   "source": [
    "## Load in the data that we will be using\n",
    "\n",
    "This is the same as in the previous notebook"
   ]
  },
  {
   "cell_type": "code",
   "execution_count": 2,
   "metadata": {},
   "outputs": [
    {
     "name": "stdout",
     "output_type": "stream",
     "text": [
      "Opening File: FinData/MCD.csv\n",
      "Done reading file\n"
     ]
    }
   ],
   "source": [
    "# Here are the basic values of each stock that we have information on\n",
    "class date:\n",
    "    def __init__(self):\n",
    "        self.date = \"NaN\"\n",
    "        self.open = 0.0\n",
    "        self.high = 0.0\n",
    "        self.low = 0.0\n",
    "        self.close = 0.0\n",
    "        self.adj = 0.0\n",
    "        self.volume = 0.0\n",
    "    def reinit(self, date, op, high, low, close, adj, vol):\n",
    "        self.date = date\n",
    "        self.open = float(op)\n",
    "        self.high = float(high)\n",
    "        self.low = float(low)\n",
    "        self.close = float(close)\n",
    "        self.adj = float(adj)\n",
    "        self.volume = float(vol)\n",
    "        \n",
    "data_entries = []\n",
    "print (\"Opening File: %s\"%(DATA_PATH))\n",
    "with open(DATA_PATH, 'rb') as f:\n",
    "    reader = csv.reader(f)\n",
    "    for i, row in enumerate(reader):\n",
    "        if('null' in row): continue;\n",
    "        if(i == 0): continue;\n",
    "        temp_date = date()\n",
    "        temp_date.reinit(row[0], row[1], row[2], row[3], row[4], row[5], row[6])\n",
    "        data_entries.append(temp_date)\n",
    "        \n",
    "dates_of_data = np.asarray([i.date for i in data_entries])\n",
    "open_of_data = np.asarray([i.open for i in data_entries])\n",
    "close_of_data = np.asarray([i.close for i in data_entries])\n",
    "high_of_data = np.asarray([i.high for i in data_entries])\n",
    "low_of_data = np.asarray([i.low for i in data_entries])\n",
    "\n",
    "dates_of_data = dates_of_data[-2500:]\n",
    "open_of_data = open_of_data[-2500:]\n",
    "close_of_data = close_of_data[-2500:]\n",
    "high_of_data = high_of_data[-2500:]\n",
    "low_of_data = low_of_data[-2500:]\n",
    "\n",
    "\n",
    "print(\"Done reading file\")"
   ]
  },
  {
   "cell_type": "markdown",
   "metadata": {},
   "source": [
    "## Load in the pre-trained model"
   ]
  },
  {
   "cell_type": "code",
   "execution_count": 3,
   "metadata": {},
   "outputs": [
    {
     "name": "stdout",
     "output_type": "stream",
     "text": [
      "_________________________________________________________________\n",
      "Layer (type)                 Output Shape              Param #   \n",
      "=================================================================\n",
      "lstm_1 (LSTM)                (None, 32)                4352      \n",
      "_________________________________________________________________\n",
      "dropout_1 (Dropout)          (None, 32)                0         \n",
      "_________________________________________________________________\n",
      "dense_1 (Dense)              (None, 4)                 132       \n",
      "_________________________________________________________________\n",
      "dense_2 (Dense)              (None, 1)                 5         \n",
      "=================================================================\n",
      "Total params: 4,489\n",
      "Trainable params: 4,489\n",
      "Non-trainable params: 0\n",
      "_________________________________________________________________\n"
     ]
    }
   ],
   "source": [
    "layers = [1,look_back,1]\n",
    "model = Sequential()\n",
    "d = 0.1\n",
    "model = Sequential()    \n",
    "model.add(LSTM(32, input_shape=(layers[1], layers[0]), return_sequences=False))\n",
    "model.add(Dropout(d))\n",
    "        \n",
    "model.add(Dense(4,kernel_initializer=\"uniform\",activation='relu'))        \n",
    "model.add(Dense(1,kernel_initializer=\"uniform\",activation='linear'))\n",
    "\n",
    "model.load_weights(MODEL_WEIGHT_PATH)\n",
    "model.summary()"
   ]
  },
  {
   "cell_type": "markdown",
   "metadata": {},
   "source": [
    "## Test - Train Split (just as before)"
   ]
  },
  {
   "cell_type": "code",
   "execution_count": 4,
   "metadata": {},
   "outputs": [
    {
     "name": "stdout",
     "output_type": "stream",
     "text": [
      "Split data into training set and test set... Number of training samples/ test samples: 2375 125\n",
      "Done with split\n"
     ]
    }
   ],
   "source": [
    "stock_prices = open_of_data\n",
    "stock_prices = stock_prices.reshape(len(stock_prices), 1)\n",
    "\n",
    "\n",
    "# normalize the dataset\n",
    "scaler = MinMaxScaler(feature_range=(0, 1))\n",
    "stock_prices = scaler.fit_transform(stock_prices)\n",
    "\n",
    "train_size = int(len(stock_prices) * 0.95)\n",
    "test_size = len(stock_prices) - train_size\n",
    "train, test = stock_prices[0:train_size,:], stock_prices[train_size:len(stock_prices),:]\n",
    "\n",
    "print('Split data into training set and test set... Number of training samples/ test samples:', len(train), len(test))\n",
    "\n",
    "def create_dataset(dataset, look_back):\n",
    "    dataX, dataY = [], []\n",
    "    for i in range(len(dataset)-look_back-1):\n",
    "        a = dataset[i:(i+look_back), 0]\n",
    "        dataX.append(a)\n",
    "        dataY.append(dataset[i + look_back, 0])\n",
    "    return np.array(dataX), np.array(dataY)\n",
    "\n",
    "# convert stock price data into time series dataset\n",
    "trainX, trainY = create_dataset(train, look_back)\n",
    "testX, testY = create_dataset(test, look_back)\n",
    "\n",
    "# reshape input of the LSTM to be format [samples, time steps, features]\n",
    "trainX = np.reshape(trainX, (trainX.shape[0], trainX.shape[1], 1))\n",
    "testX = np.reshape(testX, (testX.shape[0], testX.shape[1], 1))\n",
    "\n",
    "\n",
    "# Here is where some things are different: \n",
    "testX_E = testX[:100]\n",
    "testX_P = testX[:-25]\n",
    "\n",
    "\n",
    "print(\"Done with split\")"
   ]
  },
  {
   "cell_type": "markdown",
   "metadata": {},
   "source": [
    "## Create a relevent measure of our data based on some unseen data"
   ]
  },
  {
   "cell_type": "code",
   "execution_count": 5,
   "metadata": {},
   "outputs": [
    {
     "name": "stdout",
     "output_type": "stream",
     "text": [
      "Train Score: 1.51 RMSE\n",
      "Test Score: 2.65 RMSE\n"
     ]
    }
   ],
   "source": [
    "# make predictions\n",
    "trainPredict = model.predict(trainX)\n",
    "testPredict = model.predict(testX)\n",
    "\n",
    "# invert predictions and targets to unscaled\n",
    "trainPredict = scaler.inverse_transform(trainPredict)\n",
    "trainY = scaler.inverse_transform([trainY])\n",
    "testPredict = scaler.inverse_transform(testPredict)\n",
    "testY = scaler.inverse_transform([testY])\n",
    "\n",
    "# calculate root mean squared error\n",
    "trainY = trainY.reshape(len(trainY[0]), 1)\n",
    "testY = testY.reshape(len(testY[0]), 1)\n",
    "trainScore = math.sqrt(mean_squared_error(trainY, trainPredict[:,0]))\n",
    "print('Train Score: %.2f RMSE' % (trainScore))\n",
    "testScore = math.sqrt(mean_squared_error(testY, testPredict[:,0]))\n",
    "print('Test Score: %.2f RMSE' % (testScore))\n",
    "\n",
    "\n",
    "# shift predictions of training data for plotting\n",
    "trainPredictPlot = np.empty_like(stock_prices)\n",
    "trainPredictPlot[:, :] = np.nan\n",
    "trainPredictPlot[look_back:len(trainPredict)+look_back, :] = trainPredict\n",
    "\n",
    "# shift predictions of test data for plotting\n",
    "testPredictPlot = np.empty_like(stock_prices)\n",
    "testPredictPlot[:, :] = np.nan\n",
    "testPredictPlot[len(trainPredict)+(look_back*2)+1:len(stock_prices)-1, :] = testPredict"
   ]
  },
  {
   "cell_type": "code",
   "execution_count": 6,
   "metadata": {},
   "outputs": [
    {
     "data": {
      "image/png": "[encoded data removed]",
      "text/plain": [
       "<matplotlib.figure.Figure at 0x7f9938d6fc90>"
      ]
     },
     "metadata": {},
     "output_type": "display_data"
    }
   ],
   "source": [
    "# plot baseline and predictions\n",
    "plt.clf()\n",
    "plt.title(\"Results of our Prediction for %s Stock Prices [Close]\"%(STOCK_TO_USE))\n",
    "plt.xlabel(\"Day\")\n",
    "plt.ylabel(\"Price\")\n",
    "test_size = 125\n",
    "\n",
    "real = close_of_data[-test_size:]\n",
    "pred = testPredictPlot[-test_size:]\n",
    "\n",
    "c, = plt.plot(real[:100], label='Close Price',alpha=0.3)\n",
    "predict_test, = plt.plot(pred[:100], label='LSTM Prediction on Unseen Data', color='r')\n",
    "plt.legend(handles=[c, predict_test])\n",
    "plt.show()"
   ]
  },
  {
   "cell_type": "code",
   "execution_count": 7,
   "metadata": {},
   "outputs": [
    {
     "data": {
      "image/png": "[encoded data removed]",
      "text/plain": [
       "<matplotlib.figure.Figure at 0x7f9938daa710>"
      ]
     },
     "metadata": {},
     "output_type": "display_data"
    },
    {
     "data": {
      "image/png": "[encoded data removed]",
      "text/plain": [
       "<matplotlib.figure.Figure at 0x7f9938d6f550>"
      ]
     },
     "metadata": {},
     "output_type": "display_data"
    }
   ],
   "source": [
    "#objects = ('Python', 'C++', 'Java', 'Perl', 'Scala', 'Lisp')\n",
    "cod = real[:100]\n",
    "lstmp = pred[:100]\n",
    "performance = [lstmp[i] - cod[i] for i in range(100)]\n",
    "y_pos = np.arange(len(performance))\n",
    "\n",
    "cmap = matplotlib.cm.get_cmap('Spectral_r')\n",
    "max_val = 50\n",
    "colors = []\n",
    "for i in performance:\n",
    "    color_val = cmap(abs(i)/max_val)\n",
    "    hex_col = '#%02x%02x%02x' % (color_val[0][0]*255, color_val[0][1]*255, color_val[0][2]*255)\n",
    "    colors.append(hex_col)\n",
    "\n",
    "\n",
    "    \n",
    "plt.bar(y_pos, performance, align='center', alpha=0.5,width=1.0, color=colors)\n",
    "plt.ylabel('Difference in USD ($)')\n",
    "plt.title('Prediction Accuracy - Difference between Predicted Close and Real Close - %s'%(STOCK_TO_USE))\n",
    "plt.xlabel('Day')\n",
    "\n",
    "plt.show()\n",
    "\n",
    "max_val += 1\n",
    "pylab.rcParams['figure.figsize'] = (16, 1)\n",
    "plt.clf()\n",
    "ones = np.ones(max_val)\n",
    "color_val = [cmap(float(i)/max_val)for i in range(max_val)]\n",
    "plt.bar(np.arange(max_val), ones, align='center', alpha=0.5,width=1.0, color=color_val)\n",
    "plt.ylim([0,1])\n",
    "plt.xlim([0,50])\n",
    "plt.title(\"Chart for Difference Plot Color per USD ($)\")\n",
    "plt.show()\n",
    "pylab.rcParams['figure.figsize'] = (16, 10)"
   ]
  },
  {
   "cell_type": "markdown",
   "metadata": {},
   "source": [
    "# Turing the visuals into something useful:"
   ]
  },
  {
   "cell_type": "code",
   "execution_count": 13,
   "metadata": {},
   "outputs": [
    {
     "name": "stdout",
     "output_type": "stream",
     "text": [
      "Number of overshoots: 11 Average Overshoot Val: 0.316345254972\n",
      "Number of undershoots: 82 Average Undershoot Val: -2.40625074387\n"
     ]
    }
   ],
   "source": [
    "# First lets seperate the negative values from the \n",
    "# positive values so we can get a sense of if we \n",
    "# are over predicting or under predicting\n",
    "cod = real[:100]\n",
    "lstmp = pred[:100]\n",
    "\n",
    "negs = [lstmp[i] - cod[i] for i in range(100) if((lstmp[i] - cod[i]) < 0)]\n",
    "poss = [lstmp[i] - cod[i] for i in range(100) if((lstmp[i] - cod[i]) > 0)]\n",
    "\n",
    "negs = np.asarray(negs)\n",
    "poss = np.asarray(poss)\n",
    "\n",
    "print(\"Number of overshoots: %s Average Overshoot Val: %s\"%(len(poss), np.average(poss)))\n",
    "print(\"Number of undershoots: %s Average Undershoot Val: %s\"%(len(negs), np.average(negs)))\n",
    "# After getting the trend of over or under predicting\n",
    "# we will figure out the average overshoot and \n",
    "# undershoot\n",
    "\n",
    "real = close_of_data[-test_size:]\n",
    "pred = testPredictPlot[-test_size:]\n",
    "\n"
   ]
  },
  {
   "cell_type": "markdown",
   "metadata": {},
   "source": [
    "## Using under and overshoot to maximize profits"
   ]
  },
  {
   "cell_type": "code",
   "execution_count": 9,
   "metadata": {
    "collapsed": true
   },
   "outputs": [],
   "source": [
    "# First thing we will do is establish our \n",
    "# initial funds : $10,000\n",
    "\n",
    "# Given the current price and the prediction for\n",
    "# the next day we will buy or sell\n",
    "\n",
    "# We shouldn't just take the prediction as truth,\n",
    "# we should compensate for the possibility of over\n",
    "# or undershoot in our prediction"
   ]
  }
 ],
 "metadata": {
  "kernelspec": {
   "display_name": "Python 2",
   "language": "python",
   "name": "python2"
  },
  "language_info": {
   "codemirror_mode": {
    "name": "ipython",
    "version": 2
   },
   "file_extension": ".py",
   "mimetype": "text/x-python",
   "name": "python",
   "nbconvert_exporter": "python",
   "pygments_lexer": "ipython2",
   "version": "2.7.12"
  }
 },
 "nbformat": 4,
 "nbformat_minor": 2
}
